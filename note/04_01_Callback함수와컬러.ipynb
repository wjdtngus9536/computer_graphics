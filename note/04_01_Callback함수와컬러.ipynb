{
 "cells": [
  {
   "cell_type": "markdown",
   "id": "478da012",
   "metadata": {},
   "source": [
    "# Callback functions and Color Values\n",
    "---"
   ]
  },
  {
   "cell_type": "markdown",
   "id": "3f563864",
   "metadata": {},
   "source": [
    "## GLFW 설명\n",
    "\n",
    "윈도우 시스템과 GLFW의 목적\n",
    "- 다양한 윈도우 시스템이 존재, 모두에서 작동하는 abstract한 윈도우 시스템을 만들어내는데 주 목적\n",
    "- 모든 윈도우 시스템에 공통인 기능만 제공(일부분만 해당)\n",
    "\n",
    "대화형 프로그램의 특성\n",
    "- 입력 >> 처리 >> 출력의 무한 반복(infinite loop)\n",
    "- 출력 결과를 보고, 다시 새로운 입력\n",
    "\n",
    "Event Loop Model(이벤트에 따라 처리)\n",
    "- main loop가 무한 반복\n",
    "    1. 입력 이벤트 발생 여부 확인\n",
    "    2. 이벤트 발생 시 대응되는 처리\n",
    "    3. 결과 출력\n",
    "    \n",
    "- 콜백함수 도입\n",
    "    - 이벤트 프로그램 입장에서는 어떤 상황에 어떤 함수를 부르는지 미리 알고 있으니까 처리가 간결하고 효과적으로 일어남\n",
    "        1. 입력 이벤트 발생 여부 체크\n",
    "        2. 이벤트 발생시 대응되는 콜백함수 호출\n",
    "        3. 결과 출력\n",
    "    \n",
    "    \n",
    "GLFW features 기능들\n",
    "- 초기화\n",
    "- 윈도우 관리\n",
    "- 콜백 등록(callback registration) 기능\n",
    "    - 다양한 callback 제공\n",
    "    - 마우스, 키보드, 스크린 등의 이벤트 처리 가능\n",
    "    \n",
    "> 함수에 대한 제대로 된 이해를 하려면 documentation을 꼭 읽어야 한다.\n",
    "\n",
    "```cpp\n",
    "int glfwinit(void); //return GLFW_TRUE or GLFW_FALSE\n",
    "\n",
    "void glfwTerminate(void); // destroy all remaining windows and resources\n",
    "\n",
    "GLFWwindow* glfwCreateWindow(int width, int height, const char* title,\n",
    "                        CLFWmonitor* monitor, GLFWwindow* share);\n",
    "```\n",
    "glfwCreateWindow() 함수는\n",
    "- 윈도우 창이랑 관련된 OpenGL context를 생성\n",
    "- context = current OpenGL 상태 + 내부 변수들\n",
    "- 모니터 매개변수는 full screen 모드를 위해 or NULL이면 윈도우 모드\n",
    "    - glfwGetPrimaryMonitor() : 풀 스크린 모드\n",
    "- share는 기존의 윈도우를 매개변수로 주면 그 context들을 공유한다 or NULL \n",
    "\n",
    "- 여러 개의 윈도우 중 어느 한 개를 골라서 OpenGL의 출력이 어디로 갈 지 고르는 함수\n",
    "void glfwMakeContextCurrent(GLFWwindow* win);\n",
    "앞으로 일어나는 모든 OpenGL function call은 이 윈도우를 향해서 갈 것 이 위에 OpenGL 그림들이 그려진다.\n",
    "\n",
    "\n",
    "2개의 좌표계\n",
    "1. 윈도우 시스템 좌표계\n",
    "    - 프레임버퍼/픽셀 = 2차원 배열\n",
    "    - 정수 좌표 사용\n",
    "    - upper-left corner에 원점\n",
    "2. 3D 그래픽스 좌표계\n",
    "    - 수학에서 사용하는 3차원 좌표계\n",
    "    - 실수 좌표 사용\n",
    "    - lower-left 또는 corner에 원점\n",
    "> 2개 다 쓴다.\n",
    "\n",
    "\n",
    "\n",
    "```cpp\n",
    "void glfwDestroyWindow(GLFWwindow* win);\n",
    "    \n",
    "void glfwSetWindowPos(GLFWwindow* win, int xpos, int ypos);\n",
    "\n",
    "void glfwSetWindowSize(GLFWwindow* win, int eidth, int height);\n",
    "\n",
    "void glfwPollEvents(void); // 모든 pending(미결, 보류 중인) events 처리\n",
    "\n",
    "void glfwSwapBuffers(GLFWwindow* win);\n",
    "\n",
    "```\n"
   ]
  },
  {
   "cell_type": "markdown",
   "id": "0b4abe40",
   "metadata": {},
   "source": [
    "## Refresh callback\n",
    "\n",
    "Callback 함수\n",
    "- 자동 호출되는 함수\n",
    "- 미리 정의된 이벤트에 대해\n",
    "- 등록 후에\n",
    "\n",
    "refresh callback\n",
    "1. 윈도우 창이 켜졌을 때\n",
    "2. 윈도우 resize됐을 때\n",
    "3. 윈도우가 **iconized**(최소화)됐다가 다시 커졌을 때\n",
    "4. 윈도우 전체를 다시 그려야 할 때\n",
    "\n",
    "\n",
    "GLFW refresh callback 등록과정\n",
    "GLFW는 refresh 콜백의 함수 형태를 잘 정의해 놓고 있음\n",
    "```cpp\n",
    "// 콜백 함수 작성법\n",
    "typedef void (*GLFWwindowrefreshfun)(GLFWwindow* win);\n",
    "\n",
    "void funct(GLFWwindow* win){}\n",
    "```\n",
    "refresh 콜백 함수를 등록하는 함수\n",
    "```cpp\n",
    "GLFWwindowrefreshfun glfwSetWindowRefreshCallback(GLFWwindow* win, GLFWwindowrefreshfun func);\n",
    "                            어떤 윈도우에 이 콜백을 등록할 것인지, 앞에서 작성한 콜백 함수 이름 `funct`\n",
    "만약 func 매개변수에 NULL을 주면 refresh callback 전체를 없애버린다.\n",
    "e.g.,\n",
    "glfw\n",
    "```\n",
    "\n",
    "refresh.c\n",
    "\n",
    "OpenGL: delayed execution"
   ]
  },
  {
   "cell_type": "markdown",
   "id": "69307ec5",
   "metadata": {},
   "source": [
    "## Keyboard callback"
   ]
  },
  {
   "cell_type": "markdown",
   "id": "3ac5cd29",
   "metadata": {},
   "source": [
    "## A theoretical view to the color\n"
   ]
  },
  {
   "cell_type": "markdown",
   "id": "1a2282be",
   "metadata": {},
   "source": [
    "## 컬러 이미지 저장 방식 "
   ]
  },
  {
   "cell_type": "markdown",
   "id": "dc881c14",
   "metadata": {},
   "source": [
    "## RGBA 컬러 모델 \n",
    "픽셀당 4byte 사용 >> (R, G, B, A)\n",
    "- 직관적 표현 방식 : 정수 integer 사용\n",
    "- R/G/B/A 모두 0 ~ 255 사이의 정수\n",
    "\n",
    "OpenGL 방식\n",
    "- 정수 표현은 4n = 32일 때만 정확한 색상\n",
    "- 정확성을 위해 0.0 ~ 1.0 사이의 실수로 사용\n",
    "    - red : 238 / 255 = 0.933\n",
    "    - green\n",
    "    - blue\n",
    "    - alpha"
   ]
  },
  {
   "cell_type": "markdown",
   "id": "f1724e7f",
   "metadata": {},
   "source": [
    "## 컬러 변경 프로그램 \n",
    "\n",
    "- 내부 변수: GLfloat clr[4] {R, G, B, A}; // 0.933F, ..."
   ]
  }
 ],
 "metadata": {
  "kernelspec": {
   "display_name": "Python 3 (ipykernel)",
   "language": "python",
   "name": "python3"
  },
  "language_info": {
   "codemirror_mode": {
    "name": "ipython",
    "version": 3
   },
   "file_extension": ".py",
   "mimetype": "text/x-python",
   "name": "python",
   "nbconvert_exporter": "python",
   "pygments_lexer": "ipython3",
   "version": "3.9.16"
  },
  "toc": {
   "base_numbering": "4",
   "nav_menu": {},
   "number_sections": true,
   "sideBar": true,
   "skip_h1_title": false,
   "title_cell": "Table of Contents",
   "title_sidebar": "Contents",
   "toc_cell": false,
   "toc_position": {
    "height": "calc(100% - 180px)",
    "left": "10px",
    "top": "150px",
    "width": "303.833px"
   },
   "toc_section_display": true,
   "toc_window_display": true
  }
 },
 "nbformat": 4,
 "nbformat_minor": 5
}
