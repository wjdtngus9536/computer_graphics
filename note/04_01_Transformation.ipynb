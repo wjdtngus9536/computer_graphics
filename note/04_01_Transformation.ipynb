{
 "cells": [
  {
   "cell_type": "markdown",
   "id": "b893cdcc",
   "metadata": {},
   "source": [
    "# 좌표 변환\n",
    "---"
   ]
  },
  {
   "cell_type": "markdown",
   "id": "fb887a06",
   "metadata": {},
   "source": [
    "## 2차원 변환 \n",
    "\n",
    "mapping function : point/vector(2D/3D) -> another point/vertor(2D/3D)\n",
    "어떤 물체를 이동하고 회전시키는 것이 모두 mapping에 의해 이뤄진다.\n",
    "\n",
    "Affine transformation, 어파인 변환이 그래픽스에서 가장 중요하게 다뤄짐\n",
    "기본적으로 사용하는 함수가 1차 함수, 벡터를 통한 평행 이동을 다루기 때문에\n",
    "필연적으로 homogeneous 좌표계 표현으로 바뀌게 된다.\n",
    "물리 시뮬레이션의 가장 기초가 된다.\n",
    "\n",
    "\n",
    "어파인 변환의 특징\n",
    "- 직선 유지\n",
    "    - 변환 전에 선분 -> 변환 후에도 선분\n",
    "    - 선분 다각형으로 구성된 모든 물체에 적용 가능(매우 중요)\n",
    "        - 선분의 성질이 두 꼭지점을 연결하는 직선\n",
    "        - 선분을 변환시킬 때 꼭지점만 변화시킨 후 꼭지점을 연결하면 됨.  \n",
    "        \n",
    "> 그래픽스 프로그램은 이제 꼭지점에만 집중하면 된다.\n",
    "\n"
   ]
  }
 ],
 "metadata": {
  "kernelspec": {
   "display_name": "Python 3 (ipykernel)",
   "language": "python",
   "name": "python3"
  },
  "language_info": {
   "codemirror_mode": {
    "name": "ipython",
    "version": 3
   },
   "file_extension": ".py",
   "mimetype": "text/x-python",
   "name": "python",
   "nbconvert_exporter": "python",
   "pygments_lexer": "ipython3",
   "version": "3.9.16"
  },
  "toc": {
   "base_numbering": 1,
   "nav_menu": {},
   "number_sections": true,
   "sideBar": true,
   "skip_h1_title": false,
   "title_cell": "Table of Contents",
   "title_sidebar": "Contents",
   "toc_cell": false,
   "toc_position": {},
   "toc_section_display": true,
   "toc_window_display": false
  }
 },
 "nbformat": 4,
 "nbformat_minor": 5
}
