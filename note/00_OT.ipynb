{
 "cells": [
  {
   "cell_type": "markdown",
   "id": "35cf87eb",
   "metadata": {},
   "source": [
    "# 00. OT\n",
    "---\n",
    "\n",
    "## 선수과목\n",
    "\n",
    "- 기하학 + 선형대수\n",
    "    - 벡터, 행렬, 벡터의 외적, 행렬 곱하기가 실생활에서 어떻게 쓰이는지\n",
    "    - 왜 엄청냔 개념인지 이해\n",
    "\n",
    "- 초보적인 물리학 + 광학(optics) 지식들\n",
    "    - 빛의 반사, 굴절\n",
    "\n",
    "- 초보적인 C++ 언어 사용\n",
    "    - pre-defined class를 그대로 사용\n",
    "    - stl을 얼마나 잘 쓰느냐\n",
    "    \n",
    "- 컴퓨터 하드웨어 배경 지식들\n",
    "    - CPU, 메인보드, 그래픽 카드\n",
    "\n",
    "## 교재\n",
    "\n",
    "- Interactive Computer Graphics, E.Angel 저, 6th Ed/5th Ed - 6판이 베스트\n",
    "- slide materials - original work from the lecturer\n",
    "    - caution\n",
    "    \n",
    "- more textbooks\n",
    "    - 3차원 컴퓨터 그래픽스 입문, 한정현(고려대)\n",
    "    \n",
    "\n",
    "## Course Topics\n",
    "\n",
    "- 이해 안 될 때, udemy나 유튜브 강의보고 익혀도 관계 없음\n",
    "- 그래픽스 시스템 소개\n",
    "- 역사\n",
    "- Open liblary 설치\n",
    "- G\n",
    "\n",
    "\n",
    "## 실습 환경의 확보\n",
    "\n",
    "- Open GL SDK\n",
    "- C++ compiler\n",
    "\n",
    "- nvidia/그래픽 카드 권장\n",
    "- 클라우드 환경 사용가능\n",
    "- 실습용 코드 등은 모두 C++ 11기준으로 제공"
   ]
  }
 ],
 "metadata": {
  "kernelspec": {
   "display_name": "Python 3 (ipykernel)",
   "language": "python",
   "name": "python3"
  },
  "language_info": {
   "codemirror_mode": {
    "name": "ipython",
    "version": 3
   },
   "file_extension": ".py",
   "mimetype": "text/x-python",
   "name": "python",
   "nbconvert_exporter": "python",
   "pygments_lexer": "ipython3",
   "version": "3.9.13"
  }
 },
 "nbformat": 4,
 "nbformat_minor": 5
}
