{
 "cells": [
  {
   "cell_type": "markdown",
   "id": "2adb1ddd",
   "metadata": {},
   "source": [
    "# 그래픽스 시스템의 역사\n",
    "---\n",
    "\n",
    "## 00_왜 과거의 기술을 돌아봐야  하는가?\n",
    "- 과거를 이해해야 현재의 흔적을 이해할 수 있기 때문에 (e.g., 저장 \"save\" 아이콘)\n",
    "- 과거의 모두도 스마트했고, 당신이 생각하는 것들은 거의 대부분 남들도 생각해 봤다."
   ]
  },
  {
   "cell_type": "markdown",
   "id": "306fa746",
   "metadata": {},
   "source": [
    "## 01_그래픽스 하드웨어 발달사\n",
    "---\n",
    "\n",
    "### 초기 발달사\n",
    "- 키보드 아트, ASCII아트\n",
    "    - 타자기 아트 : 1867년작\n",
    "    - 키보드 아트, 아스키 아트, ANSI아트, 유니코드 아트\n",
    "\n",
    "\n",
    "- 최초의 그래픽스 프로그램 : OXO\n",
    "    - tic-tac-toe 게임(1952)\n",
    "    - 사용자 인터페이스, Human Computer Interface 분야, 컴퓨터 게임의 시작\n",
    "  \n",
    "  \n",
    "- 1950 - 1960\n",
    "    - 아날로그 장비 사용\n",
    "    - 초기 TV모니터 성능은 열악\n",
    "    \n",
    "\n",
    "- 1960 - 1970\n",
    "    - 흑백TV >> 컴퓨터용 모니터로 사용 가능\n",
    "        - 선분만 출력 가능\n",
    "            - 직선 위에서 그 위의 두 점에 한정된 부분. 직선상의 두 점을 A, B라 할 때, A, B를 양 끝으로 하는 선분을 선분 AB라고 함. \n",
    "        - 벡터방식, 와이어프레임 방식(껍데기만 선으로 표현하는 방식)\n",
    "        - 입력장치 \"키보드\" 사용이 가능해짐, \"컴퓨터 터미널\" 탄생\n",
    "        \n",
    "        \n",
    "- GUI, HCI 분야의 시작\n",
    "    - Sketchpad : 1963년, \n",
    "        - GUI : 그래픽스 방식의 사용자 인터페이스\n",
    "        - HCI : 인간 - 컴퓨터 인터페이스라는 학문 분야가 크게 성장\n",
    "\n",
    "\n",
    "- 아케이드 게임의 시작\n",
    "    - 1972년 미국 Atari사의 Pong\n",
    "    - 고장난 오실로 스코프의 다이얼을 돌려보니 재밌는 게임이 됐음 \n",
    "    - PC 게임의 상업적 성공이 가능하다는 중요한 사례가 됨\n",
    "\n",
    "\n",
    "- 1970 - 1980\n",
    "    - 래스터 그래픽스 시스템의 출현\n",
    "        - TV 기술 + 컴퓨터 메모리 기술(`framebuffer 프레임 버퍼`)\n",
    "        - 이전까지는 벡터 방식으로 선만 그릴 수 있었으나\n",
    "        - 래스터 방식이 출현하며 도형의 내부를 칠할 수 있었음\n",
    "    - 컴퓨터 그래픽스 표준도 발전 시작\n",
    "        - GKS, Core같은 컴퓨터 그래픽스 API표준들이, 소프트웨어 표준들이 출현, 이들이 활발하게 사용됨\n",
    "    - PC기반의 그래픽스가 발전하기 시작\n",
    "        \n",
    "- APPLE 2 : PC의 시작\n",
    "    - 상업적으로 성공한 최초의 PC\n",
    "    - 화면에 6개 색상만 표시 가능\n",
    "    - `PC기반 게임의 시작`\n",
    "\n",
    "\n",
    "### 최근 발달사\n",
    "- 1980-1990\n",
    "    - 사실주의 출력이 가능해짐\n",
    "    - Silicon Graphics Inc.의 3D 그래픽스 워크스테이션 성공\n",
    "    - **VLSI implementation** of graphics pipeline\n",
    "        - 80년대 컴퓨터 그래픽스의 가장 큰 특징중의 하나가 반도체 기술을 이용해서 VLSI로 `그래픽스 파이프라인`을 구현\n",
    "        - geometry engine을 개발 : 3차원 그래픽스용으로 아주 잘 만들어냄\n",
    "    - **X Window System**(1984)\n",
    "        - 네트워크 연결로 컴퓨터 그래픽스가 가능함을 보여줌\n",
    "        - 클라이언트 - 서버 방식 그래픽스 출력\n",
    "        \n",
    "    - **Silicon Graphics"
   ]
  },
  {
   "cell_type": "code",
   "execution_count": null,
   "id": "1cc29aa1",
   "metadata": {},
   "outputs": [],
   "source": []
  }
 ],
 "metadata": {
  "kernelspec": {
   "display_name": "Python 3 (ipykernel)",
   "language": "python",
   "name": "python3"
  },
  "language_info": {
   "codemirror_mode": {
    "name": "ipython",
    "version": 3
   },
   "file_extension": ".py",
   "mimetype": "text/x-python",
   "name": "python",
   "nbconvert_exporter": "python",
   "pygments_lexer": "ipython3",
   "version": "3.9.13"
  }
 },
 "nbformat": 4,
 "nbformat_minor": 5
}
